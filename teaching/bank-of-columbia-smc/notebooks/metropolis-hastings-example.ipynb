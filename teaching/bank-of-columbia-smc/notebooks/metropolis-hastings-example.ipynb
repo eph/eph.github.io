{
 "cells": [
  {
   "cell_type": "code",
   "execution_count": 1,
   "metadata": {
    "autoscroll": "json-false",
    "ein.tags": [
     "worksheet-0"
    ]
   },
   "outputs": [],
   "source": [
    "%matplotlib inline\n",
    "\n",
    "import numpy as np\n",
    "\n",
    "import matplotlib.pyplot as plt\n",
    "\n",
    "from IPython.display import display, Latex\n",
    "plt.style.use('bmh')"
   ]
  },
  {
   "cell_type": "markdown",
   "metadata": {
    "ein.tags": [
     "worksheet-0"
    ]
   },
   "source": [
    "# Metropolis-Hastings: A Simple Example"
   ]
  },
  {
   "cell_type": "markdown",
   "metadata": {
    "ein.tags": [
     "worksheet-0"
    ]
   },
   "source": [
    "Suppose the parameter space is discrete and $\\theta$ can only take two\n",
    "values: $\\tau_1$ and $\\tau_2$. The posterior distribution then simplifies\n",
    "to two probabilities which we denote as $\\pi_l = \\mathbb{P}\\{ \\theta=\\tau_l|Y\\}$, $l=1,2$.\n",
    "\n",
    "The proposal distribution in Algorithm 3\n",
    "can be represented as a two-stage Markov process with transition\n",
    "matrix\n",
    "$$\n",
    "Q = \\left[ \\begin{array}{cc} q_{11} & q_{12} \\\\ q_{21} & q_{22} \\end{array} \\right],\n",
    "$$\n",
    "where $q_{lk}$ is the probability of drawing $\\vartheta = \\tau_k$ conditional\n",
    "on $\\theta^{i-1} = \\tau_l$. For illustrative purposes, we will assume that\n",
    "$$\n",
    "q_{11} = q_{22} = q, \\quad q_{12}=q_{21}=1-q\n",
    "$$\n",
    "and that the posterior distribution has the property\n",
    "$$\n",
    "\\pi_2 > \\pi_1.\n",
    "$$"
   ]
  },
  {
   "cell_type": "markdown",
   "metadata": {
    "ein.tags": [
     "worksheet-0"
    ]
   },
   "source": [
    "## Analytical Results\n",
    "To make our example concrete, we'll set \n",
    "$\\pi_1=0.2$ \n",
    "and \n",
    "$\\left[\\tau_1,\\tau_2\\right] = [0,1]$. "
   ]
  },
  {
   "cell_type": "code",
   "execution_count": 2,
   "metadata": {
    "autoscroll": "json-false",
    "ein.tags": [
     "worksheet-0"
    ]
   },
   "outputs": [],
   "source": [
    "from scipy.stats import rv_discrete\n",
    "\n",
    "pi1 = 0.2\n",
    "thet1, thet2 = 0, 1 \n",
    "\n",
    "tau = rv_discrete(values=[(thet1, thet2), (pi1, 1-pi1)])"
   ]
  },
  {
   "cell_type": "markdown",
   "metadata": {
    "ein.tags": [
     "worksheet-0"
    ]
   },
   "source": [
    "Given our assumptions above, we can also specify the proposal distribution\n",
    "as a conditional binomial distribution--one binomial for each\n",
    "$\\theta^{i-1} = \\tau_1$ and $\\theta^{i-1} = \\tau_2$.  We construct\n",
    "both proposal distributions using the python dictionary below."
   ]
  },
  {
   "cell_type": "code",
   "execution_count": 3,
   "metadata": {
    "autoscroll": "json-false",
    "ein.tags": [
     "worksheet-0"
    ]
   },
   "outputs": [],
   "source": [
    "def prop(q):\n",
    "    \"\"\"\n",
    "    Returns a dictionary with keys tau_1 and tau_2\n",
    "    and values discrete RV with probabilities determined \n",
    "    by $q$ as in the matrix above. \n",
    "    \"\"\"\n",
    "    proposal = {}     \n",
    "    \n",
    "    proposal[tau.xk[0]] = rv_discrete(values=[(tau.xk[0], tau.xk[1]), (q, 1-q)])\n",
    "    proposal[tau.xk[1]] = rv_discrete(values=[(tau.xk[0], tau.xk[1]), (1-q, q)])\n",
    "\n",
    "    return proposal"
   ]
  },
  {
   "cell_type": "markdown",
   "metadata": {
    "ein.tags": [
     "worksheet-0"
    ]
   },
   "source": [
    "Using this proposal distribution, we can compute $\\alpha(\\vartheta|\\theta)$ the probability of accepting proposal $\\vartheta$ given the current value $\\theta$.  Below we show $\\alpha$ for $q=0.2$."
   ]
  },
  {
   "cell_type": "code",
   "execution_count": 4,
   "metadata": {
    "autoscroll": "json-false",
    "ein.tags": [
     "worksheet-0"
    ]
   },
   "outputs": [
    {
     "data": {
      "text/latex": [
       "$\\alpha(\\vartheta=\\tau_1|\\theta=\\tau_1)=1.0$"
      ],
      "text/plain": [
       "<IPython.core.display.Latex object>"
      ]
     },
     "metadata": {},
     "output_type": "display_data"
    },
    {
     "data": {
      "text/latex": [
       "$\\alpha(\\vartheta=\\tau_1|\\theta=\\tau_2)=0.25$"
      ],
      "text/plain": [
       "<IPython.core.display.Latex object>"
      ]
     },
     "metadata": {},
     "output_type": "display_data"
    },
    {
     "data": {
      "text/latex": [
       "$\\alpha(\\vartheta=\\tau_2|\\theta=\\tau_1)=1$"
      ],
      "text/plain": [
       "<IPython.core.display.Latex object>"
      ]
     },
     "metadata": {},
     "output_type": "display_data"
    },
    {
     "data": {
      "text/latex": [
       "$\\alpha(\\vartheta=\\tau_2|\\theta=\\tau_2)=1.0$"
      ],
      "text/plain": [
       "<IPython.core.display.Latex object>"
      ]
     },
     "metadata": {},
     "output_type": "display_data"
    }
   ],
   "source": [
    "def alpha(vartheta, theta, q=0.2):\n",
    "    \"\"\"\n",
    "    Computes acceptance probability.\n",
    "    \"\"\"\n",
    "    post_ratio = tau.pmf(vartheta) / tau.pmf(theta) \n",
    "    prop_ratio = (prop(q)[vartheta].pmf(theta)\n",
    "                  / prop(q)[theta].pmf(vartheta))\n",
    "    return min(post_ratio / prop_ratio, 1)\n",
    "\n",
    "\n",
    "from itertools import product\n",
    "\n",
    "for vartheta, theta in product((thet1,thet2),(thet1,thet2)):\n",
    "    alpha_str = (r'$\\alpha(\\vartheta=\\tau_{}|\\theta=\\tau_{})={}$'\n",
    "                 .format(vartheta+1,theta+1,alpha(vartheta,theta)))\n",
    "    display(Latex(alpha_str))"
   ]
  },
  {
   "cell_type": "markdown",
   "metadata": {},
   "source": [
    "If we combine these acceptance probabilities with the appropriate proposal probabilities, we can construct the Markov transition matrix implied by our MH algorithm.  When constructing these probabilities, recall that we can transition from, say, $\\tau_1$ to $\\tau_1$ both by proposing $\\tau_1$ and accepting this draw, or by proposing from $\\tau_2$ and rejecting.  "
   ]
  },
  {
   "cell_type": "code",
   "execution_count": 6,
   "metadata": {},
   "outputs": [
    {
     "name": "stdout",
     "output_type": "stream",
     "text": [
      "K =  [[0.2 0.8]\n",
      " [0.2 0.8]]\n"
     ]
    }
   ],
   "source": [
    "\n",
    "def transition_matrix(q=0.2):\n",
    "    k11 = ( alpha(thet1,thet1,q=q)*prop(q)[thet1].pmf(thet1) \n",
    "           + (1-alpha(thet2,thet1,q=q))*prop(q)[thet1].pmf(thet2))\n",
    "\n",
    "    k12 = alpha(thet2,thet1,q=q)*prop(q)[thet1].pmf(thet2)\n",
    "    k21 = alpha(thet1,thet2,q=q)*prop(q)[thet2].pmf(thet1)\n",
    "\n",
    "    k22 = ( alpha(thet2,thet2,q=q)*prop(q)[thet2].pmf(thet2) + \n",
    "           + (1-alpha(thet1,thet2,q=q))*prop(q)[thet2].pmf(thet1))\n",
    "\n",
    "    return np.array([[k11,k12],[k21,k22]])\n",
    "\n",
    "K = transition_matrix()\n",
    "print('K = ', K )"
   ]
  },
  {
   "cell_type": "markdown",
   "metadata": {},
   "source": [
    "The transition matrix has $\\pi$ as an invariant distribution.  We can verify this with:"
   ]
  },
  {
   "cell_type": "code",
   "execution_count": 8,
   "metadata": {},
   "outputs": [
    {
     "name": "stdout",
     "output_type": "stream",
     "text": [
      "False\n"
     ]
    }
   ],
   "source": [
    "pi_act = np.array([pi1,1-pi1])\n",
    "print((pi_act == pi_act.dot(K)).all())"
   ]
  },
  {
   "cell_type": "markdown",
   "metadata": {},
   "source": [
    "The transition matrix has two eigenvalues, which we compute below.  If the second eigenvalue is different from one,\n",
    "the posterior is the unique invariant distribution of the Markov chain.\n",
    "The persistence of the Markov chain is characterized by this eigenvalue."
   ]
  },
  {
   "cell_type": "code",
   "execution_count": 10,
   "metadata": {},
   "outputs": [
    {
     "name": "stdout",
     "output_type": "stream",
     "text": [
      "[0. 1.]\n"
     ]
    }
   ],
   "source": [
    "eig, eigv = np.linalg.eig(K)\n",
    "print(eig)"
   ]
  },
  {
   "cell_type": "markdown",
   "metadata": {
    "ein.tags": [
     "worksheet-0"
    ]
   },
   "source": [
    "The non-unitary eigenvalue is 0 (to machine precision), which means that the chain generates uncorrelated draws.  In general, as we describe in the tex, the markov chain generated by this chain will follow an AR(1), with\n",
    "an autocorrelation of $$ CORR(\\theta^i, \\theta^{i-s}) = \\left(q -\n",
    "(1-q)\\frac{\\pi_1}{1-\\pi_1}\\right)^s. $$ \n",
    "The expression inside the parantheses corresponds to the second (non unit) eigenvalue of the matrix K. \n",
    "\n",
    "One can see that different proposal distributions--indexed by $q$--will have very different behavior, as evidenced by their autocorrelation functions, which are plotted below. "
   ]
  },
  {
   "cell_type": "code",
   "execution_count": 11,
   "metadata": {
    "autoscroll": "json-false",
    "ein.tags": [
     "worksheet-0"
    ]
   },
   "outputs": [
    {
     "data": {
      "image/png": "[encoded data removed]",
      "text/plain": [
       "<Figure size 432x288 with 1 Axes>"
      ]
     },
     "metadata": {
      "needs_background": "light"
     },
     "output_type": "display_data"
    }
   ],
   "source": [
    "qvec = np.array([0.000001, 0.2, 0.5, 0.99])\n",
    "\n",
    "for q in qvec:\n",
    "    K = transition_matrix(q)\n",
    "    eig, eigv = np.linalg.eig(K)          \n",
    "    plt.plot(eig[0]**np.arange(10), linewidth=4)\n",
    "\n",
    "_ = plt.legend([r'$q=0.00$', '$q=0.20$', '$q=0.50$', '$q=0.99$'], fontsize=14, loc='center right')\n"
   ]
  },
  {
   "cell_type": "markdown",
   "metadata": {
    "ein.tags": [
     "worksheet-0"
    ]
   },
   "source": [
    "The persistence of the Markov chain depends on the proposal distribution,\n",
    "which in our discrete example is characterized by the probability $q$. While in general it is not feasible to tailor the proposal density to\n",
    "generate serially uncorrelated draws, the goal of MCMC design is to keep the\n",
    "persistence of the chain as low as possible. As $q$ approaches one,\n",
    "the autocorrelation of the Markov chain increases and converges to one.\n",
    "In the limit, if $q=1$, then\n",
    "$\\theta^i=\\theta^1$ for all $i$ and the equilibrium distribution of the chain is\n",
    "no longer unique.\n",
    "\n",
    "Monte Carlo estimates of functions $h$ will have their variance inflated by this integrated\n",
    "autocorrelation relative to estimates from IID draws, as can be seen below.\n",
    "\n",
    "Defining the Monte Carlo estimate\n",
    "$$\n",
    "\\bar{h}_N = \\frac{1}{N} \\sum_{i=1}^N h(\\theta^i)\n",
    "$$\n",
    "we deduce from a central limit theorem for dependent random variables that\n",
    "$$\n",
    "\\sqrt{N} (\\bar{h}_N - \\mathbb{E}_\\pi[h])\n",
    "\\Longrightarrow N \\big(0, \\Omega(h) \\big),\n",
    "$$\n",
    "where $\\Omega(h)$ is now the long-run covariance matrix\n",
    "$$\n",
    "\\Omega(h) = \\lim_{L \\longrightarrow \\infty} \\mathbb{V}_\\pi[h] \\left( 1 + 2 \\sum_{l=1}^L \\frac{L-l}{L} \\left( q - (1-q)\\frac{\\pi_1}{1-\\pi_1} \\right)^l \\right).\n",
    "$$\n",
    "In turn, the asymptotic inefficiency factor is given by \n",
    "\n",
    "$$\n",
    "\\mbox{InEff}_\\infty = \\frac{\\Omega(h)}{\\mathbb{V}_\\pi[h]} = 1 + 2 \\lim_{L \\longrightarrow \\infty}  \\sum_{l=1}^L \\frac{L-l}{L} \\left( q - (1-q)\\frac{\\pi_1}{1-\\pi_1} \\right)^l. \n",
    "$$\n",
    "\n",
    "Below we plot an approximation InEff$_{\\infty}$ as a function of $q$ (using $L = 100$).  "
   ]
  },
  {
   "cell_type": "code",
   "execution_count": 13,
   "metadata": {
    "autoscroll": "json-false",
    "ein.tags": [
     "worksheet-0"
    ]
   },
   "outputs": [
    {
     "data": {
      "image/png": "[encoded data removed]",
      "text/plain": [
       "<Figure size 432x288 with 1 Axes>"
      ]
     },
     "metadata": {
      "needs_background": "light"
     },
     "output_type": "display_data"
    }
   ],
   "source": [
    "def relative_var(q, L=100):\n",
    "    S = np.arange(1, L+1)\n",
    "    K = transition_matrix(q)\n",
    "    lam = np.linalg.eig(K)[0][0]\n",
    "    return 1+2*np.dot((L-S)/L, lam**S)\n",
    "\n",
    "q_vec = np.linspace(0+1e-13, 1.0-1e-13, 100)\n",
    "rv = np.vectorize(relative_var)(q_vec)\n",
    "\n",
    "fig = plt.figure()\n",
    "ax = fig.add_subplot(111)\n",
    "\n",
    "plt.plot(q_vec, np.ones_like(q_vec), color='Black', linewidth=5)\n",
    "plt.plot(q_vec, rv, linewidth=3, color='grey')\n",
    "\n",
    "plt.title(r'InEff$_\\infty$ as a function of $q$',fontsize=16)\n",
    "plt.xlabel(r'$q$', fontsize=16)\n",
    "plt.text(0.03, 60, r'$\\pi_1$ = {}'.format(pi1), fontsize=14)\n",
    "ax.set_yscale('log')"
   ]
  },
  {
   "cell_type": "markdown",
   "metadata": {
    "ein.tags": [
     "worksheet-0"
    ]
   },
   "source": [
    "For $q=\\pi_1$ the inefficiency factor is one. For $q> \\pi_1$ the inefficiency factor is greater\n",
    "than one because the draws are positively correlated, whereas for $q< \\pi_1$ the algorithm produces\n",
    "negatively correlated draws which lead to an inefficiency factor that is less than one.\n",
    "\n",
    "## Simulation Exercise\n",
    "\n",
    "We want to from a numerical illustration, without relying on any asymptotic or analytic expressions.  What we'd like to do is assess for a given proposal distribution and chain length $N$, 1) if the MCMC algorithm converges in the sense that draws from the chain reflect draws from our posterior, and 2) how the different choices of $q$ affect the variance of estimates using these chains.  \n",
    "\n",
    "To do this, we setup a simple function to run the MH algorithm."
   ]
  },
  {
   "cell_type": "code",
   "execution_count": 14,
   "metadata": {
    "autoscroll": "json-false",
    "ein.tags": [
     "worksheet-0"
    ]
   },
   "outputs": [],
   "source": [
    "from numpy.random import uniform\n",
    "\n",
    "def MCMC(N, starting_theta, q=prop(pi1)):\n",
    "    \"\"\"\n",
    "    runs an MH chain of length N using proposal q, \n",
    "    starting at starting_theta\n",
    "    \"\"\"\n",
    "    parasim = np.zeros((N))\n",
    " \n",
    "    parasim[0] = starting_theta\n",
    "\n",
    "    for i in np.arange(1, N):\n",
    "        t0 = parasim[i-1]\n",
    "        t1 = q[t0].rvs()\n",
    " \n",
    "        mh_ratio = ( tau.pmf(t1)/ q[t0].pmf(t1) ) / (tau.pmf(t0)/q[t1].pmf(t0))\n",
    "    \n",
    "        alp = np.min([1, mh_ratio])\n",
    " \n",
    "        u = uniform()\n",
    " \n",
    "        if u < alp:\n",
    "            t0 = t1\n",
    " \n",
    "        parasim[i] = t0\n",
    " \n",
    "    return parasim\n"
   ]
  },
  {
   "cell_type": "markdown",
   "metadata": {
    "ein.tags": [
     "worksheet-0"
    ]
   },
   "source": [
    "We can think about estimating $\\bar V(\\bar h)$, the variance associate with the Monte Carlo estimate $\\bar h_N$. in two ways.\n",
    "\n",
    "1. From a given chain,  we compute an estimate of $\\Omega(h)/N$, using a simple\n",
    "Newey-West heteroskedastic- and autocorrelation-consistent (HAC) estimator.\n",
    "\n",
    "2. We can run many chains to obtain a set of $\\{\\bar h_N^j\\}_{j=1}^{nsim}$, and\n",
    "then compute the variance of this estimator, denoted by $\\mathbb{V}[\\bar{h}_N]$\n",
    "\n",
    "If the chain is converged, so that the central limit theorem above holds, the\n",
    "measures obtained by (1) and (2) should be more or less, as they are both\n",
    "estimating the same object.  \n",
    "\n",
    "Before we continue, we need to define a simple HAC estimator."
   ]
  },
  {
   "cell_type": "code",
   "execution_count": 15,
   "metadata": {
    "autoscroll": "json-false",
    "ein.tags": [
     "worksheet-0"
    ]
   },
   "outputs": [],
   "source": [
    "from statsmodels.tsa.stattools import acovf\n",
    "\n",
    "def HAC(x, L=5000):\n",
    "    \"Very simple HAC estimator.\"\n",
    "    K = 1 - np.arange(0, L+1)/(L+1)\n",
    "    prod = np.ones_like(K)\n",
    "    prod[1:] = 2\n",
    "    gamma = acovf(x, fft=True)[0:L+1]\n",
    "    return np.dot(K*prod, gamma)"
   ]
  },
  {
   "cell_type": "markdown",
   "metadata": {},
   "source": [
    "In our simulation study, for each $q$ we'll run $10$ MH chains of length $N=1000$. "
   ]
  },
  {
   "cell_type": "code",
   "execution_count": 16,
   "metadata": {
    "autoscroll": "json-false",
    "ein.tags": [
     "worksheet-0"
    ]
   },
   "outputs": [
    {
     "data": {
      "text/plain": [
       "<matplotlib.legend.Legend at 0x7f6ea0017390>"
      ]
     },
     "execution_count": 16,
     "metadata": {},
     "output_type": "execute_result"
    },
    {
     "data": {
      "image/png": "[encoded data removed]",
      "text/plain": [
       "<Figure size 432x288 with 1 Axes>"
      ]
     },
     "metadata": {
      "needs_background": "light"
     },
     "output_type": "display_data"
    }
   ],
   "source": [
    "nsim = 10                       # number of MCMC runs \n",
    "N = 1000                        # length of chain\n",
    "nburn = 0                       # burn in \n",
    "fig = plt.figure()\n",
    "ax = fig.add_subplot(111)\n",
    "\n",
    "ii = 0\n",
    "means = np.zeros((4))\n",
    "colors = ['Blue', 'Green', 'Red', 'Orange']\n",
    "for q in np.linspace(0.000001, 0.99, 4):\n",
    "     \n",
    "    h = np.mean\n",
    "    h_mcmc = np.zeros((nsim))\n",
    "    h_hac = np.zeros((nsim))\n",
    "    for i in np.arange(0, nsim):\n",
    "        parasim= MCMC(N, 1, q=prop(q))\n",
    "        parasim = parasim[nburn:]\n",
    "        h_mcmc[i] = h(parasim)\n",
    "        h_hac[i] = HAC(parasim, L=400)/N\n",
    "\n",
    "    vmu = np.var(h_mcmc)\n",
    "    means[ii] = vmu\n",
    "\n",
    "    plt.scatter(np.ones_like(h_hac)*vmu, h_hac, color=colors[ii])\n",
    "    ii += 1\n",
    "\n",
    "    \n",
    "#from scipy.stats.kde import gaussian_kde\n",
    "plt.plot(means, means, color='Black')\n",
    "ax.set_xscale('log')\n",
    "ax.set_yscale('log')\n",
    "plt.legend(['$45 dg$', r'$q=0$', '$q=0.33$', '$q=0.66$', '$q=0.99$'], fontsize=12, loc='upper left')\n"
   ]
  },
  {
   "cell_type": "markdown",
   "metadata": {
    "ein.tags": [
     "worksheet-0"
    ]
   },
   "source": [
    "The $y$-coordinate of the dots represents the HAC\n",
    "estimates for each $q$, while the $x$-coordinate indicates an estimate\n",
    "of the small-sample variance $\\mathbb{V}[\\bar{h}_N]$ for each $q$.\n",
    "The solid line gives the 45-degree line.  One can see that relative\n",
    "ordering for the $q$-s is preserved in small samples, with $q = 0$\n",
    "having the lowest small-sample variance and $q = 0.99$ having the\n",
    "highest.  More importantly, the small-sample variance for each of the\n",
    "simulators is bracketed by the HAC estimates, indicated by the solid\n",
    "line bisecting the dots for each $q$.  That is, the within-chain\n",
    "estimates appear consistent with the between-chain measures, though on\n",
    "average the HAC estimator underestimates the variance of the Monte\n",
    "Carlo approximation."
   ]
  },
  {
   "cell_type": "code",
   "execution_count": null,
   "metadata": {},
   "outputs": [],
   "source": []
  }
 ],
 "metadata": {
  "kernelspec": {
   "display_name": "Python 3",
   "language": "python",
   "name": "python3"
  },
  "language_info": {
   "codemirror_mode": {
    "name": "ipython",
    "version": 3
   },
   "file_extension": ".py",
   "mimetype": "text/x-python",
   "name": "python",
   "nbconvert_exporter": "python",
   "pygments_lexer": "ipython3",
   "version": "3.6.9"
  },
  "name": "simple_example.ipynb"
 },
 "nbformat": 4,
 "nbformat_minor": 1
}
